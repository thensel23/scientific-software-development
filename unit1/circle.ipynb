{
 "cells": [
  {
   "cell_type": "markdown",
   "id": "16c2eeeb",
   "metadata": {},
   "source": [
    "# Sample notebook for unit 1\n",
    "*Inga Ulusoy, SSC*"
   ]
  },
  {
   "cell_type": "code",
   "execution_count": null,
   "id": "c60812a6",
   "metadata": {},
   "outputs": [],
   "source": [
    "import numpy as np\n",
    "import matplotlib.pyplot as plt"
   ]
  },
  {
   "cell_type": "code",
   "execution_count": null,
   "id": "60cae049",
   "metadata": {},
   "outputs": [],
   "source": [
    "def area_circ(r_in ):\n",
    "    \"\"\"Calculates the area of a circle with given radius.\n",
    "\n",
    "    :Input: The radius of the circle (float, >=0).\n",
    "    :Returns: The area of the circle (float).\"\"\"\n",
    "    if r_in < 0:\n",
    "        raise ValueError(\"The radius must be >= 0.\")\n",
    "    area_out = np.pi * r_in**2\n",
    "    return area_out"
   ]
  },
  {
   "cell_type": "code",
   "execution_count": null,
   "id": "2cd84e8c",
   "metadata": {},
   "outputs": [],
   "source": [
    "A = area_circ(5)"
   ]
  },
  {
   "cell_type": "code",
   "execution_count": null,
   "id": "f0191cd3",
   "metadata": {},
   "outputs": [],
   "source": [
    "r = np.arange(0.1  , 5.1, 0.1)"
   ]
  },
  {
   "cell_type": "code",
   "execution_count": null,
   "id": "995898ca",
   "metadata": {},
   "outputs": [],
   "source": [
    "print(r)"
   ]
  },
  {
   "cell_type": "code",
   "execution_count": null,
   "id": "8de6c20f",
   "metadata": {},
   "outputs": [],
   "source": [
    "A = []\n",
    "for i in r:\n",
    "    A.append(area_circ(i))"
   ]
  },
  {
   "cell_type": "code",
   "execution_count": null,
   "id": "76e616b3",
   "metadata": {},
   "outputs": [],
   "source": [
    "plt.plot(r, A)\n",
    "plt.show()"
   ]
  },
  {
   "cell_type": "code",
   "execution_count": null,
   "id": "dd818606",
   "metadata": {},
   "outputs": [],
   "source": []
  }
 ],
 "metadata": {
  "kernelspec": {
   "display_name": ".multiflux",
   "language": "python",
   "name": "python3"
  },
  "language_info": {
   "codemirror_mode": {
    "name": "ipython",
    "version": 3
   },
   "file_extension": ".py",
   "mimetype": "text/x-python",
   "name": "python",
   "nbconvert_exporter": "python",
   "pygments_lexer": "ipython3",
   "version": "3.9.13"
  },
  "vscode": {
   "interpreter": {
    "hash": "eb3e99d3805e0234c6935c2c6ba0163562eea1a2f720dd05ea3caf9e337a59f5"
   }
  }
 },
 "nbformat": 4,
 "nbformat_minor": 5
}
