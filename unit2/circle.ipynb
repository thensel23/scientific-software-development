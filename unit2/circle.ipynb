{
 "cells": [
  {
   "cell_type": "code",
   "execution_count": null,
   "metadata": {},
   "outputs": [],
   "source": [
    "import numpy as np"
   ]
  },
  {
   "cell_type": "code",
   "execution_count": null,
   "metadata": {},
   "outputs": [],
   "source": [
    "def area_circ(r_in):\n",
    "    \"\"\"Calculates the area of a circle with given radius.\n",
    "\n",
    "    :Input: The radius of the circle (float, >=0).\n",
    "    :Returns: The area of the circle (float).\"\"\"\n",
    "    if r_in < 0:\n",
    "        raise ValueError(\"The radius must be >= 0.\")\n",
    "    area_out = np.pi * r_in**2\n",
    "    print(\"The area of a circle with radius r = {:3.2f}cm\\\n",
    "        is A = {:4.2f}cm2.\".format(r_in, area_out))\n",
    "    return area_out"
   ]
  },
  {
   "cell_type": "code",
   "execution_count": null,
   "metadata": {},
   "outputs": [],
   "source": [
    "area_circ(4)"
   ]
  },
  {
   "cell_type": "code",
   "execution_count": null,
   "metadata": {},
   "outputs": [],
   "source": [
    "# here is some long form and poorly layouted comment.\n",
    "# which doesn't fit into one single line and will hopefully\n",
    "# cause the linter to complain. But we will se and run it on\n",
    "# the current file to make sure."
   ]
  }
 ],
 "metadata": {
  "kernelspec": {
   "display_name": ".multiflux",
   "language": "python",
   "name": "python3"
  },
  "language_info": {
   "codemirror_mode": {
    "name": "ipython",
    "version": 3
   },
   "file_extension": ".py",
   "mimetype": "text/x-python",
   "name": "python",
   "nbconvert_exporter": "python",
   "pygments_lexer": "ipython3",
   "version": "3.9.13"
  },
  "vscode": {
   "interpreter": {
    "hash": "eb3e99d3805e0234c6935c2c6ba0163562eea1a2f720dd05ea3caf9e337a59f5"
   }
  }
 },
 "nbformat": 4,
 "nbformat_minor": 2
}
